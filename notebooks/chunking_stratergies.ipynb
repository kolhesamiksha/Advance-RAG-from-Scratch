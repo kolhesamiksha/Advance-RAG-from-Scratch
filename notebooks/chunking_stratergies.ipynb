{
 "cells": [
  {
   "cell_type": "code",
   "execution_count": null,
   "metadata": {},
   "outputs": [],
   "source": [
    "# Semantic, statistical, Consecutive chunking: https://www.youtube.com/watch?v=7JS0pqXvha8\n",
    "# Reference: https://github.com/pinecone-io/examples/blob/master/learn/generation/better-rag/02b-semantic-chunking.ipynb\n",
    "# RecuriveCharacterTextSplitter -> chunk_size, chunk_overlap\n",
    "# small2big/parent document retriever"
   ]
  },
  {
   "cell_type": "code",
   "execution_count": 4,
   "metadata": {},
   "outputs": [
    {
     "name": "stderr",
     "output_type": "stream",
     "text": [
      "\n",
      "[notice] A new release of pip is available: 24.0 -> 24.1.2\n",
      "[notice] To update, run: C:\\Users\\kolhe\\AppData\\Local\\Microsoft\\WindowsApps\\PythonSoftwareFoundation.Python.3.11_qbz5n2kfra8p0\\python.exe -m pip install --upgrade pip\n",
      "\n",
      "[notice] A new release of pip is available: 24.0 -> 24.1.2\n",
      "[notice] To update, run: C:\\Users\\kolhe\\AppData\\Local\\Microsoft\\WindowsApps\\PythonSoftwareFoundation.Python.3.11_qbz5n2kfra8p0\\python.exe -m pip install --upgrade pip\n",
      "\n",
      "[notice] A new release of pip is available: 24.0 -> 24.1.2\n",
      "[notice] To update, run: C:\\Users\\kolhe\\AppData\\Local\\Microsoft\\WindowsApps\\PythonSoftwareFoundation.Python.3.11_qbz5n2kfra8p0\\python.exe -m pip install --upgrade pip\n",
      "ERROR: Invalid requirement: \"semantic-router[fastembed]'\"\n",
      "\n",
      "[notice] A new release of pip is available: 24.0 -> 24.1.2\n",
      "[notice] To update, run: C:\\Users\\kolhe\\AppData\\Local\\Microsoft\\WindowsApps\\PythonSoftwareFoundation.Python.3.11_qbz5n2kfra8p0\\python.exe -m pip install --upgrade pip\n"
     ]
    }
   ],
   "source": [
    "!pip install -qU langchain-text-splitters langchain_core \n",
    "!pip install -qU matplotlib\n",
    "!pip install -qU semantic-chunkers==0.0.3 "
   ]
  },
  {
   "cell_type": "code",
   "execution_count": 1,
   "metadata": {},
   "outputs": [
    {
     "name": "stdout",
     "output_type": "stream",
     "text": [
      "Collecting fastembed==0.3.3\n",
      "  Using cached fastembed-0.3.3-py3-none-any.whl.metadata (7.8 kB)\n",
      "Collecting PyStemmer<3.0.0,>=2.2.0 (from fastembed==0.3.3)\n",
      "  Using cached PyStemmer-2.2.0.1.tar.gz (303 kB)\n",
      "  Installing build dependencies: started\n",
      "  Installing build dependencies: finished with status 'done'\n",
      "  Getting requirements to build wheel: started\n",
      "  Getting requirements to build wheel: finished with status 'done'\n",
      "  Installing backend dependencies: started\n",
      "  Installing backend dependencies: finished with status 'done'\n",
      "  Preparing metadata (pyproject.toml): started\n",
      "  Preparing metadata (pyproject.toml): finished with status 'done'\n",
      "Collecting huggingface-hub<1.0,>=0.20 (from fastembed==0.3.3)\n",
      "  Using cached huggingface_hub-0.23.4-py3-none-any.whl.metadata (12 kB)\n",
      "Collecting loguru<0.8.0,>=0.7.2 (from fastembed==0.3.3)\n",
      "  Using cached loguru-0.7.2-py3-none-any.whl.metadata (23 kB)\n",
      "Collecting mmh3<5.0,>=4.0 (from fastembed==0.3.3)\n",
      "  Using cached mmh3-4.1.0-cp311-cp311-win_amd64.whl.metadata (13 kB)\n",
      "Requirement already satisfied: numpy<2,>=1.21 in c:\\users\\kolhe\\appdata\\local\\packages\\pythonsoftwarefoundation.python.3.11_qbz5n2kfra8p0\\localcache\\local-packages\\python311\\site-packages (from fastembed==0.3.3) (1.26.4)\n",
      "Collecting onnx<2.0.0,>=1.15.0 (from fastembed==0.3.3)\n",
      "  Using cached onnx-1.16.1-cp311-cp311-win_amd64.whl.metadata (16 kB)\n",
      "Collecting onnxruntime<2.0.0,>=1.17.0 (from fastembed==0.3.3)\n",
      "  Using cached onnxruntime-1.18.1-cp311-cp311-win_amd64.whl.metadata (4.5 kB)\n",
      "Requirement already satisfied: pillow<11.0.0,>=10.3.0 in c:\\users\\kolhe\\appdata\\local\\packages\\pythonsoftwarefoundation.python.3.11_qbz5n2kfra8p0\\localcache\\local-packages\\python311\\site-packages (from fastembed==0.3.3) (10.4.0)\n",
      "Requirement already satisfied: requests<3.0,>=2.31 in c:\\users\\kolhe\\appdata\\local\\packages\\pythonsoftwarefoundation.python.3.11_qbz5n2kfra8p0\\localcache\\local-packages\\python311\\site-packages (from fastembed==0.3.3) (2.31.0)\n",
      "Collecting snowballstemmer<3.0.0,>=2.2.0 (from fastembed==0.3.3)\n",
      "  Using cached snowballstemmer-2.2.0-py2.py3-none-any.whl.metadata (6.5 kB)\n",
      "Collecting tokenizers<1.0,>=0.15 (from fastembed==0.3.3)\n",
      "  Using cached tokenizers-0.19.1-cp311-none-win_amd64.whl.metadata (6.9 kB)\n",
      "Requirement already satisfied: tqdm<5.0,>=4.66 in c:\\users\\kolhe\\appdata\\local\\packages\\pythonsoftwarefoundation.python.3.11_qbz5n2kfra8p0\\localcache\\local-packages\\python311\\site-packages (from fastembed==0.3.3) (4.66.2)\n",
      "Requirement already satisfied: filelock in c:\\users\\kolhe\\appdata\\local\\packages\\pythonsoftwarefoundation.python.3.11_qbz5n2kfra8p0\\localcache\\local-packages\\python311\\site-packages (from huggingface-hub<1.0,>=0.20->fastembed==0.3.3) (3.13.1)\n",
      "Collecting fsspec>=2023.5.0 (from huggingface-hub<1.0,>=0.20->fastembed==0.3.3)\n",
      "  Using cached fsspec-2024.6.1-py3-none-any.whl.metadata (11 kB)\n",
      "Requirement already satisfied: packaging>=20.9 in c:\\users\\kolhe\\appdata\\local\\packages\\pythonsoftwarefoundation.python.3.11_qbz5n2kfra8p0\\localcache\\local-packages\\python311\\site-packages (from huggingface-hub<1.0,>=0.20->fastembed==0.3.3) (23.2)\n",
      "Requirement already satisfied: pyyaml>=5.1 in c:\\users\\kolhe\\appdata\\local\\packages\\pythonsoftwarefoundation.python.3.11_qbz5n2kfra8p0\\localcache\\local-packages\\python311\\site-packages (from huggingface-hub<1.0,>=0.20->fastembed==0.3.3) (6.0.1)\n",
      "Requirement already satisfied: typing-extensions>=3.7.4.3 in c:\\users\\kolhe\\appdata\\local\\packages\\pythonsoftwarefoundation.python.3.11_qbz5n2kfra8p0\\localcache\\local-packages\\python311\\site-packages (from huggingface-hub<1.0,>=0.20->fastembed==0.3.3) (4.12.0)\n",
      "Requirement already satisfied: colorama>=0.3.4 in c:\\users\\kolhe\\appdata\\local\\packages\\pythonsoftwarefoundation.python.3.11_qbz5n2kfra8p0\\localcache\\local-packages\\python311\\site-packages (from loguru<0.8.0,>=0.7.2->fastembed==0.3.3) (0.4.6)\n",
      "Collecting win32-setctime>=1.0.0 (from loguru<0.8.0,>=0.7.2->fastembed==0.3.3)\n",
      "  Using cached win32_setctime-1.1.0-py3-none-any.whl.metadata (2.3 kB)\n",
      "Requirement already satisfied: protobuf>=3.20.2 in c:\\users\\kolhe\\appdata\\local\\packages\\pythonsoftwarefoundation.python.3.11_qbz5n2kfra8p0\\localcache\\local-packages\\python311\\site-packages (from onnx<2.0.0,>=1.15.0->fastembed==0.3.3) (5.26.1)\n",
      "Collecting coloredlogs (from onnxruntime<2.0.0,>=1.17.0->fastembed==0.3.3)\n",
      "  Using cached coloredlogs-15.0.1-py2.py3-none-any.whl.metadata (12 kB)\n",
      "Requirement already satisfied: flatbuffers in c:\\users\\kolhe\\appdata\\local\\packages\\pythonsoftwarefoundation.python.3.11_qbz5n2kfra8p0\\localcache\\local-packages\\python311\\site-packages (from onnxruntime<2.0.0,>=1.17.0->fastembed==0.3.3) (24.3.25)\n",
      "Requirement already satisfied: sympy in c:\\users\\kolhe\\appdata\\local\\packages\\pythonsoftwarefoundation.python.3.11_qbz5n2kfra8p0\\localcache\\local-packages\\python311\\site-packages (from onnxruntime<2.0.0,>=1.17.0->fastembed==0.3.3) (1.13.0)\n",
      "Requirement already satisfied: charset-normalizer<4,>=2 in c:\\users\\kolhe\\appdata\\local\\packages\\pythonsoftwarefoundation.python.3.11_qbz5n2kfra8p0\\localcache\\local-packages\\python311\\site-packages (from requests<3.0,>=2.31->fastembed==0.3.3) (3.3.2)\n",
      "Requirement already satisfied: idna<4,>=2.5 in c:\\users\\kolhe\\appdata\\local\\packages\\pythonsoftwarefoundation.python.3.11_qbz5n2kfra8p0\\localcache\\local-packages\\python311\\site-packages (from requests<3.0,>=2.31->fastembed==0.3.3) (3.4)\n",
      "Requirement already satisfied: urllib3<3,>=1.21.1 in c:\\users\\kolhe\\appdata\\local\\packages\\pythonsoftwarefoundation.python.3.11_qbz5n2kfra8p0\\localcache\\local-packages\\python311\\site-packages (from requests<3.0,>=2.31->fastembed==0.3.3) (2.1.0)\n",
      "Requirement already satisfied: certifi>=2017.4.17 in c:\\users\\kolhe\\appdata\\local\\packages\\pythonsoftwarefoundation.python.3.11_qbz5n2kfra8p0\\localcache\\local-packages\\python311\\site-packages (from requests<3.0,>=2.31->fastembed==0.3.3) (2023.11.17)\n",
      "Collecting humanfriendly>=9.1 (from coloredlogs->onnxruntime<2.0.0,>=1.17.0->fastembed==0.3.3)\n",
      "  Using cached humanfriendly-10.0-py2.py3-none-any.whl.metadata (9.2 kB)\n",
      "Requirement already satisfied: mpmath<1.4,>=1.1.0 in c:\\users\\kolhe\\appdata\\local\\packages\\pythonsoftwarefoundation.python.3.11_qbz5n2kfra8p0\\localcache\\local-packages\\python311\\site-packages (from sympy->onnxruntime<2.0.0,>=1.17.0->fastembed==0.3.3) (1.3.0)\n",
      "Requirement already satisfied: pyreadline3 in c:\\users\\kolhe\\appdata\\local\\packages\\pythonsoftwarefoundation.python.3.11_qbz5n2kfra8p0\\localcache\\local-packages\\python311\\site-packages (from humanfriendly>=9.1->coloredlogs->onnxruntime<2.0.0,>=1.17.0->fastembed==0.3.3) (3.4.1)\n",
      "Using cached fastembed-0.3.3-py3-none-any.whl (54 kB)\n",
      "Using cached huggingface_hub-0.23.4-py3-none-any.whl (402 kB)\n",
      "Using cached loguru-0.7.2-py3-none-any.whl (62 kB)\n",
      "Using cached mmh3-4.1.0-cp311-cp311-win_amd64.whl (31 kB)\n",
      "Using cached onnx-1.16.1-cp311-cp311-win_amd64.whl (14.4 MB)\n",
      "Using cached onnxruntime-1.18.1-cp311-cp311-win_amd64.whl (5.6 MB)\n",
      "Using cached snowballstemmer-2.2.0-py2.py3-none-any.whl (93 kB)\n",
      "Using cached tokenizers-0.19.1-cp311-none-win_amd64.whl (2.2 MB)\n",
      "Using cached fsspec-2024.6.1-py3-none-any.whl (177 kB)\n",
      "Using cached win32_setctime-1.1.0-py3-none-any.whl (3.6 kB)\n",
      "Using cached coloredlogs-15.0.1-py2.py3-none-any.whl (46 kB)\n",
      "Using cached humanfriendly-10.0-py2.py3-none-any.whl (86 kB)\n",
      "Building wheels for collected packages: PyStemmer\n",
      "  Building wheel for PyStemmer (pyproject.toml): started\n",
      "  Building wheel for PyStemmer (pyproject.toml): finished with status 'done'\n",
      "  Created wheel for PyStemmer: filename=PyStemmer-2.2.0.1-cp311-cp311-win_amd64.whl size=176733 sha256=57703a8c75a0a4ad2cd95c1ec02b0cd1b8c0c7c61000a3b48e939633364397c7\n",
      "  Stored in directory: c:\\users\\kolhe\\appdata\\local\\pip\\cache\\wheels\\98\\7a\\27\\5e9754829321019b332a3a7045059bc4c3a564b13d7ab3e46d\n",
      "Successfully built PyStemmer\n",
      "Installing collected packages: snowballstemmer, PyStemmer, mmh3, win32-setctime, onnx, humanfriendly, fsspec, loguru, huggingface-hub, coloredlogs, tokenizers, onnxruntime, fastembed\n"
     ]
    },
    {
     "name": "stderr",
     "output_type": "stream",
     "text": [
      "ERROR: Could not install packages due to an OSError: [WinError 3] The system cannot find the path specified: 'C:\\\\Users\\\\kolhe\\\\AppData\\\\Local\\\\Packages\\\\PythonSoftwareFoundation.Python.3.11_qbz5n2kfra8p0\\\\LocalCache\\\\local-packages\\\\Python311\\\\site-packages\\\\onnx\\\\backend\\\\test\\\\data\\\\node\\\\test_averagepool_3d_dilations_large_count_include_pad_is_0_ceil_mode_is_False\\\\test_data_set_0'\n",
      "\n",
      "\n",
      "[notice] A new release of pip is available: 24.0 -> 24.1.2\n",
      "[notice] To update, run: C:\\Users\\kolhe\\AppData\\Local\\Microsoft\\WindowsApps\\PythonSoftwareFoundation.Python.3.11_qbz5n2kfra8p0\\python.exe -m pip install --upgrade pip\n"
     ]
    }
   ],
   "source": [
    "!pip install fastembed==0.3.3"
   ]
  },
  {
   "cell_type": "code",
   "execution_count": 13,
   "metadata": {},
   "outputs": [],
   "source": [
    "# All Imports\n",
    "from langchain_core.documents import BaseDocumentTransformer, Document\n",
    "from langchain_text_splitters import RecursiveCharacterTextSplitter\n",
    "from typing import List, Tuple\n",
    "import matplotlib.pyplot as plt"
   ]
  },
  {
   "cell_type": "markdown",
   "metadata": {},
   "source": [
    "## RecursiveCharacter Text Splitter"
   ]
  },
  {
   "cell_type": "code",
   "execution_count": 11,
   "metadata": {},
   "outputs": [],
   "source": [
    "## Approach1: Get the Average Chunk Size as per the characters present in the dataset\n",
    "def calculate_total_and_count(docs: list, index: int = 0) -> Tuple[int, int]:\n",
    "    if index >= len(docs):\n",
    "        return (0, 0)\n",
    "    current_chunk_size = len(docs[index].page_content)\n",
    "    total_length, count = calculate_total_and_count(docs, index + 1)\n",
    "    return (current_chunk_size + total_length, count + 1)\n",
    "\n",
    "def get_average_chunk_size(docs: list) -> float:\n",
    "    total_length, count = calculate_total_and_count(docs)\n",
    "    if count == 0:\n",
    "        return 0.0\n",
    "    return total_length / count"
   ]
  },
  {
   "cell_type": "code",
   "execution_count": null,
   "metadata": {},
   "outputs": [],
   "source": [
    "# Approach2: Get the Distribution of chunk size\n",
    "def get_chunk_sizes(docs: List[str]) -> List[int]:\n",
    "    return [len(doc) for doc in docs]\n",
    "\n",
    "# Function to plot bar chart\n",
    "def plot_chunk_sizes(docs: List[str]):\n",
    "    chunk_sizes = get_chunk_sizes(docs)\n",
    "    chunk_numbers = range(1, len(chunk_sizes) + 1)  # Chunk numbers start from 1\n",
    "\n",
    "    plt.figure(figsize=(10, 6))\n",
    "    plt.bar(chunk_numbers, chunk_sizes, color='skyblue')\n",
    "    plt.xlabel('Chunk Number')\n",
    "    plt.ylabel('Size of Chunk')\n",
    "    plt.title('Chunk Sizes Bar Plot')\n",
    "    plt.xticks(chunk_numbers)  # Ensure chunk numbers are shown as integers\n",
    "    plt.show()"
   ]
  },
  {
   "cell_type": "code",
   "execution_count": 14,
   "metadata": {},
   "outputs": [],
   "source": [
    "# Recursive Character Text Splitter\n",
    "CHUNK_SIZE = \"\"\n",
    "CHUNK_OVERLAP = \"\"\n",
    "def prepare_texts(data:list) -> list:\n",
    "    text_splitter = RecursiveCharacterTextSplitter(\n",
    "            chunk_size=CHUNK_SIZE,\n",
    "            chunk_overlap=CHUNK_OVERLAP,\n",
    "            length_function=len,\n",
    "        )\n",
    "    texts = text_splitter.split_documents(data)\n",
    "    return texts"
   ]
  },
  {
   "cell_type": "code",
   "execution_count": 5,
   "metadata": {},
   "outputs": [
    {
     "name": "stdout",
     "output_type": "stream",
     "text": [
      "Requirement already satisfied: semantic-router[fastembed] in c:\\users\\kolhe\\appdata\\local\\packages\\pythonsoftwarefoundation.python.3.11_qbz5n2kfra8p0\\localcache\\local-packages\\python311\\site-packages (0.0.39)\n",
      "Requirement already satisfied: cohere<5.0,>=4.32 in c:\\users\\kolhe\\appdata\\local\\packages\\pythonsoftwarefoundation.python.3.11_qbz5n2kfra8p0\\localcache\\local-packages\\python311\\site-packages (from semantic-router[fastembed]) (4.57)\n",
      "Requirement already satisfied: colorama<0.5.0,>=0.4.6 in c:\\users\\kolhe\\appdata\\local\\packages\\pythonsoftwarefoundation.python.3.11_qbz5n2kfra8p0\\localcache\\local-packages\\python311\\site-packages (from semantic-router[fastembed]) (0.4.6)\n",
      "Requirement already satisfied: colorlog<7.0.0,>=6.8.0 in c:\\users\\kolhe\\appdata\\local\\packages\\pythonsoftwarefoundation.python.3.11_qbz5n2kfra8p0\\localcache\\local-packages\\python311\\site-packages (from semantic-router[fastembed]) (6.8.2)\n",
      "Collecting fastembed<0.3.0,>=0.2.4 (from semantic-router[fastembed])\n",
      "  Downloading fastembed-0.2.7-py3-none-any.whl.metadata (5.3 kB)\n",
      "Requirement already satisfied: numpy<2.0.0,>=1.25.2 in c:\\users\\kolhe\\appdata\\local\\packages\\pythonsoftwarefoundation.python.3.11_qbz5n2kfra8p0\\localcache\\local-packages\\python311\\site-packages (from semantic-router[fastembed]) (1.26.4)\n",
      "Requirement already satisfied: openai<2.0.0,>=1.10.0 in c:\\users\\kolhe\\appdata\\local\\packages\\pythonsoftwarefoundation.python.3.11_qbz5n2kfra8p0\\localcache\\local-packages\\python311\\site-packages (from semantic-router[fastembed]) (1.16.2)\n",
      "Requirement already satisfied: pydantic<3.0.0,>=2.5.3 in c:\\users\\kolhe\\appdata\\local\\packages\\pythonsoftwarefoundation.python.3.11_qbz5n2kfra8p0\\localcache\\local-packages\\python311\\site-packages (from semantic-router[fastembed]) (2.8.2)\n",
      "Requirement already satisfied: pyyaml<7.0.0,>=6.0.1 in c:\\users\\kolhe\\appdata\\local\\packages\\pythonsoftwarefoundation.python.3.11_qbz5n2kfra8p0\\localcache\\local-packages\\python311\\site-packages (from semantic-router[fastembed]) (6.0.1)\n",
      "Requirement already satisfied: regex<2024.0.0,>=2023.12.25 in c:\\users\\kolhe\\appdata\\local\\packages\\pythonsoftwarefoundation.python.3.11_qbz5n2kfra8p0\\localcache\\local-packages\\python311\\site-packages (from semantic-router[fastembed]) (2023.12.25)\n",
      "Requirement already satisfied: requests-mock<2.0.0,>=1.12.1 in c:\\users\\kolhe\\appdata\\local\\packages\\pythonsoftwarefoundation.python.3.11_qbz5n2kfra8p0\\localcache\\local-packages\\python311\\site-packages (from semantic-router[fastembed]) (1.12.1)\n",
      "Requirement already satisfied: tiktoken<0.7.0,>=0.6.0 in c:\\users\\kolhe\\appdata\\local\\packages\\pythonsoftwarefoundation.python.3.11_qbz5n2kfra8p0\\localcache\\local-packages\\python311\\site-packages (from semantic-router[fastembed]) (0.6.0)\n",
      "Requirement already satisfied: aiohttp<4.0,>=3.0 in c:\\users\\kolhe\\appdata\\local\\packages\\pythonsoftwarefoundation.python.3.11_qbz5n2kfra8p0\\localcache\\local-packages\\python311\\site-packages (from cohere<5.0,>=4.32->semantic-router[fastembed]) (3.9.3)\n",
      "Requirement already satisfied: backoff<3.0,>=2.0 in c:\\users\\kolhe\\appdata\\local\\packages\\pythonsoftwarefoundation.python.3.11_qbz5n2kfra8p0\\localcache\\local-packages\\python311\\site-packages (from cohere<5.0,>=4.32->semantic-router[fastembed]) (2.2.1)\n",
      "Requirement already satisfied: fastavro<2.0,>=1.8 in c:\\users\\kolhe\\appdata\\local\\packages\\pythonsoftwarefoundation.python.3.11_qbz5n2kfra8p0\\localcache\\local-packages\\python311\\site-packages (from cohere<5.0,>=4.32->semantic-router[fastembed]) (1.9.5)\n",
      "Requirement already satisfied: importlib_metadata<7.0,>=6.0 in c:\\users\\kolhe\\appdata\\local\\packages\\pythonsoftwarefoundation.python.3.11_qbz5n2kfra8p0\\localcache\\local-packages\\python311\\site-packages (from cohere<5.0,>=4.32->semantic-router[fastembed]) (6.9.0)\n",
      "Requirement already satisfied: requests<3.0.0,>=2.25.0 in c:\\users\\kolhe\\appdata\\local\\packages\\pythonsoftwarefoundation.python.3.11_qbz5n2kfra8p0\\localcache\\local-packages\\python311\\site-packages (from cohere<5.0,>=4.32->semantic-router[fastembed]) (2.31.0)\n",
      "Requirement already satisfied: urllib3<3,>=1.26 in c:\\users\\kolhe\\appdata\\local\\packages\\pythonsoftwarefoundation.python.3.11_qbz5n2kfra8p0\\localcache\\local-packages\\python311\\site-packages (from cohere<5.0,>=4.32->semantic-router[fastembed]) (2.1.0)\n",
      "Collecting huggingface-hub<0.21,>=0.20 (from fastembed<0.3.0,>=0.2.4->semantic-router[fastembed])\n",
      "  Downloading huggingface_hub-0.20.3-py3-none-any.whl.metadata (12 kB)\n",
      "Collecting loguru<0.8.0,>=0.7.2 (from fastembed<0.3.0,>=0.2.4->semantic-router[fastembed])\n",
      "  Using cached loguru-0.7.2-py3-none-any.whl.metadata (23 kB)\n",
      "Collecting onnx<2.0.0,>=1.15.0 (from fastembed<0.3.0,>=0.2.4->semantic-router[fastembed])\n",
      "  Using cached onnx-1.16.1-cp311-cp311-win_amd64.whl.metadata (16 kB)\n",
      "Collecting onnxruntime<2.0.0,>=1.17.0 (from fastembed<0.3.0,>=0.2.4->semantic-router[fastembed])\n",
      "  Using cached onnxruntime-1.18.1-cp311-cp311-win_amd64.whl.metadata (4.5 kB)\n",
      "Collecting tokenizers<0.16,>=0.15 (from fastembed<0.3.0,>=0.2.4->semantic-router[fastembed])\n",
      "  Using cached tokenizers-0.15.2-cp311-none-win_amd64.whl.metadata (6.8 kB)\n",
      "Requirement already satisfied: tqdm<5.0,>=4.66 in c:\\users\\kolhe\\appdata\\local\\packages\\pythonsoftwarefoundation.python.3.11_qbz5n2kfra8p0\\localcache\\local-packages\\python311\\site-packages (from fastembed<0.3.0,>=0.2.4->semantic-router[fastembed]) (4.66.2)\n",
      "Requirement already satisfied: anyio<5,>=3.5.0 in c:\\users\\kolhe\\appdata\\local\\packages\\pythonsoftwarefoundation.python.3.11_qbz5n2kfra8p0\\localcache\\local-packages\\python311\\site-packages (from openai<2.0.0,>=1.10.0->semantic-router[fastembed]) (3.7.1)\n",
      "Requirement already satisfied: distro<2,>=1.7.0 in c:\\users\\kolhe\\appdata\\local\\packages\\pythonsoftwarefoundation.python.3.11_qbz5n2kfra8p0\\localcache\\local-packages\\python311\\site-packages (from openai<2.0.0,>=1.10.0->semantic-router[fastembed]) (1.9.0)\n",
      "Requirement already satisfied: httpx<1,>=0.23.0 in c:\\users\\kolhe\\appdata\\local\\packages\\pythonsoftwarefoundation.python.3.11_qbz5n2kfra8p0\\localcache\\local-packages\\python311\\site-packages (from openai<2.0.0,>=1.10.0->semantic-router[fastembed]) (0.27.0)\n",
      "Requirement already satisfied: sniffio in c:\\users\\kolhe\\appdata\\local\\packages\\pythonsoftwarefoundation.python.3.11_qbz5n2kfra8p0\\localcache\\local-packages\\python311\\site-packages (from openai<2.0.0,>=1.10.0->semantic-router[fastembed]) (1.3.0)\n",
      "Requirement already satisfied: typing-extensions<5,>=4.7 in c:\\users\\kolhe\\appdata\\local\\packages\\pythonsoftwarefoundation.python.3.11_qbz5n2kfra8p0\\localcache\\local-packages\\python311\\site-packages (from openai<2.0.0,>=1.10.0->semantic-router[fastembed]) (4.12.0)\n",
      "Requirement already satisfied: annotated-types>=0.4.0 in c:\\users\\kolhe\\appdata\\local\\packages\\pythonsoftwarefoundation.python.3.11_qbz5n2kfra8p0\\localcache\\local-packages\\python311\\site-packages (from pydantic<3.0.0,>=2.5.3->semantic-router[fastembed]) (0.6.0)\n",
      "Requirement already satisfied: pydantic-core==2.20.1 in c:\\users\\kolhe\\appdata\\local\\packages\\pythonsoftwarefoundation.python.3.11_qbz5n2kfra8p0\\localcache\\local-packages\\python311\\site-packages (from pydantic<3.0.0,>=2.5.3->semantic-router[fastembed]) (2.20.1)\n",
      "Requirement already satisfied: aiosignal>=1.1.2 in c:\\users\\kolhe\\appdata\\local\\packages\\pythonsoftwarefoundation.python.3.11_qbz5n2kfra8p0\\localcache\\local-packages\\python311\\site-packages (from aiohttp<4.0,>=3.0->cohere<5.0,>=4.32->semantic-router[fastembed]) (1.3.1)\n",
      "Requirement already satisfied: attrs>=17.3.0 in c:\\users\\kolhe\\appdata\\local\\packages\\pythonsoftwarefoundation.python.3.11_qbz5n2kfra8p0\\localcache\\local-packages\\python311\\site-packages (from aiohttp<4.0,>=3.0->cohere<5.0,>=4.32->semantic-router[fastembed]) (23.2.0)\n",
      "Requirement already satisfied: frozenlist>=1.1.1 in c:\\users\\kolhe\\appdata\\local\\packages\\pythonsoftwarefoundation.python.3.11_qbz5n2kfra8p0\\localcache\\local-packages\\python311\\site-packages (from aiohttp<4.0,>=3.0->cohere<5.0,>=4.32->semantic-router[fastembed]) (1.4.1)\n",
      "Requirement already satisfied: multidict<7.0,>=4.5 in c:\\users\\kolhe\\appdata\\local\\packages\\pythonsoftwarefoundation.python.3.11_qbz5n2kfra8p0\\localcache\\local-packages\\python311\\site-packages (from aiohttp<4.0,>=3.0->cohere<5.0,>=4.32->semantic-router[fastembed]) (6.0.5)\n",
      "Requirement already satisfied: yarl<2.0,>=1.0 in c:\\users\\kolhe\\appdata\\local\\packages\\pythonsoftwarefoundation.python.3.11_qbz5n2kfra8p0\\localcache\\local-packages\\python311\\site-packages (from aiohttp<4.0,>=3.0->cohere<5.0,>=4.32->semantic-router[fastembed]) (1.9.4)\n",
      "Requirement already satisfied: idna>=2.8 in c:\\users\\kolhe\\appdata\\local\\packages\\pythonsoftwarefoundation.python.3.11_qbz5n2kfra8p0\\localcache\\local-packages\\python311\\site-packages (from anyio<5,>=3.5.0->openai<2.0.0,>=1.10.0->semantic-router[fastembed]) (3.4)\n",
      "Requirement already satisfied: certifi in c:\\users\\kolhe\\appdata\\local\\packages\\pythonsoftwarefoundation.python.3.11_qbz5n2kfra8p0\\localcache\\local-packages\\python311\\site-packages (from httpx<1,>=0.23.0->openai<2.0.0,>=1.10.0->semantic-router[fastembed]) (2023.11.17)\n",
      "Requirement already satisfied: httpcore==1.* in c:\\users\\kolhe\\appdata\\local\\packages\\pythonsoftwarefoundation.python.3.11_qbz5n2kfra8p0\\localcache\\local-packages\\python311\\site-packages (from httpx<1,>=0.23.0->openai<2.0.0,>=1.10.0->semantic-router[fastembed]) (1.0.5)\n",
      "Requirement already satisfied: h11<0.15,>=0.13 in c:\\users\\kolhe\\appdata\\local\\packages\\pythonsoftwarefoundation.python.3.11_qbz5n2kfra8p0\\localcache\\local-packages\\python311\\site-packages (from httpcore==1.*->httpx<1,>=0.23.0->openai<2.0.0,>=1.10.0->semantic-router[fastembed]) (0.14.0)\n",
      "Requirement already satisfied: filelock in c:\\users\\kolhe\\appdata\\local\\packages\\pythonsoftwarefoundation.python.3.11_qbz5n2kfra8p0\\localcache\\local-packages\\python311\\site-packages (from huggingface-hub<0.21,>=0.20->fastembed<0.3.0,>=0.2.4->semantic-router[fastembed]) (3.13.1)\n",
      "Collecting fsspec>=2023.5.0 (from huggingface-hub<0.21,>=0.20->fastembed<0.3.0,>=0.2.4->semantic-router[fastembed])\n",
      "  Using cached fsspec-2024.6.1-py3-none-any.whl.metadata (11 kB)\n",
      "Requirement already satisfied: packaging>=20.9 in c:\\users\\kolhe\\appdata\\local\\packages\\pythonsoftwarefoundation.python.3.11_qbz5n2kfra8p0\\localcache\\local-packages\\python311\\site-packages (from huggingface-hub<0.21,>=0.20->fastembed<0.3.0,>=0.2.4->semantic-router[fastembed]) (23.2)\n",
      "Requirement already satisfied: zipp>=0.5 in c:\\users\\kolhe\\appdata\\local\\packages\\pythonsoftwarefoundation.python.3.11_qbz5n2kfra8p0\\localcache\\local-packages\\python311\\site-packages (from importlib_metadata<7.0,>=6.0->cohere<5.0,>=4.32->semantic-router[fastembed]) (3.17.0)\n",
      "Requirement already satisfied: win32-setctime>=1.0.0 in c:\\users\\kolhe\\appdata\\local\\packages\\pythonsoftwarefoundation.python.3.11_qbz5n2kfra8p0\\localcache\\local-packages\\python311\\site-packages (from loguru<0.8.0,>=0.7.2->fastembed<0.3.0,>=0.2.4->semantic-router[fastembed]) (1.1.0)\n",
      "Requirement already satisfied: protobuf>=3.20.2 in c:\\users\\kolhe\\appdata\\local\\packages\\pythonsoftwarefoundation.python.3.11_qbz5n2kfra8p0\\localcache\\local-packages\\python311\\site-packages (from onnx<2.0.0,>=1.15.0->fastembed<0.3.0,>=0.2.4->semantic-router[fastembed]) (5.26.1)\n",
      "Collecting coloredlogs (from onnxruntime<2.0.0,>=1.17.0->fastembed<0.3.0,>=0.2.4->semantic-router[fastembed])\n",
      "  Using cached coloredlogs-15.0.1-py2.py3-none-any.whl.metadata (12 kB)\n",
      "Requirement already satisfied: flatbuffers in c:\\users\\kolhe\\appdata\\local\\packages\\pythonsoftwarefoundation.python.3.11_qbz5n2kfra8p0\\localcache\\local-packages\\python311\\site-packages (from onnxruntime<2.0.0,>=1.17.0->fastembed<0.3.0,>=0.2.4->semantic-router[fastembed]) (24.3.25)\n",
      "Requirement already satisfied: sympy in c:\\users\\kolhe\\appdata\\local\\packages\\pythonsoftwarefoundation.python.3.11_qbz5n2kfra8p0\\localcache\\local-packages\\python311\\site-packages (from onnxruntime<2.0.0,>=1.17.0->fastembed<0.3.0,>=0.2.4->semantic-router[fastembed]) (1.13.0)\n",
      "Requirement already satisfied: charset-normalizer<4,>=2 in c:\\users\\kolhe\\appdata\\local\\packages\\pythonsoftwarefoundation.python.3.11_qbz5n2kfra8p0\\localcache\\local-packages\\python311\\site-packages (from requests<3.0.0,>=2.25.0->cohere<5.0,>=4.32->semantic-router[fastembed]) (3.3.2)\n",
      "Collecting humanfriendly>=9.1 (from coloredlogs->onnxruntime<2.0.0,>=1.17.0->fastembed<0.3.0,>=0.2.4->semantic-router[fastembed])\n",
      "  Using cached humanfriendly-10.0-py2.py3-none-any.whl.metadata (9.2 kB)\n",
      "Requirement already satisfied: mpmath<1.4,>=1.1.0 in c:\\users\\kolhe\\appdata\\local\\packages\\pythonsoftwarefoundation.python.3.11_qbz5n2kfra8p0\\localcache\\local-packages\\python311\\site-packages (from sympy->onnxruntime<2.0.0,>=1.17.0->fastembed<0.3.0,>=0.2.4->semantic-router[fastembed]) (1.3.0)\n",
      "Requirement already satisfied: pyreadline3 in c:\\users\\kolhe\\appdata\\local\\packages\\pythonsoftwarefoundation.python.3.11_qbz5n2kfra8p0\\localcache\\local-packages\\python311\\site-packages (from humanfriendly>=9.1->coloredlogs->onnxruntime<2.0.0,>=1.17.0->fastembed<0.3.0,>=0.2.4->semantic-router[fastembed]) (3.4.1)\n",
      "Downloading fastembed-0.2.7-py3-none-any.whl (27 kB)\n",
      "Downloading huggingface_hub-0.20.3-py3-none-any.whl (330 kB)\n",
      "   ---------------------------------------- 0.0/330.1 kB ? eta -:--:--\n",
      "   ----------------- ---------------------- 143.4/330.1 kB 2.8 MB/s eta 0:00:01\n",
      "   ------------------------------------- -- 307.2/330.1 kB 3.2 MB/s eta 0:00:01\n",
      "   ---------------------------------------- 330.1/330.1 kB 2.9 MB/s eta 0:00:00\n",
      "Using cached loguru-0.7.2-py3-none-any.whl (62 kB)\n",
      "Using cached onnx-1.16.1-cp311-cp311-win_amd64.whl (14.4 MB)\n",
      "Using cached onnxruntime-1.18.1-cp311-cp311-win_amd64.whl (5.6 MB)\n",
      "Using cached tokenizers-0.15.2-cp311-none-win_amd64.whl (2.2 MB)\n",
      "Using cached fsspec-2024.6.1-py3-none-any.whl (177 kB)\n",
      "Using cached coloredlogs-15.0.1-py2.py3-none-any.whl (46 kB)\n",
      "Using cached humanfriendly-10.0-py2.py3-none-any.whl (86 kB)\n",
      "Installing collected packages: onnx, loguru, humanfriendly, fsspec, huggingface-hub, coloredlogs, tokenizers, onnxruntime, fastembed\n"
     ]
    },
    {
     "name": "stderr",
     "output_type": "stream",
     "text": [
      "ERROR: Could not install packages due to an OSError: [WinError 3] The system cannot find the path specified: 'C:\\\\Users\\\\kolhe\\\\AppData\\\\Local\\\\Packages\\\\PythonSoftwareFoundation.Python.3.11_qbz5n2kfra8p0\\\\LocalCache\\\\local-packages\\\\Python311\\\\site-packages\\\\onnx\\\\backend\\\\test\\\\data\\\\node\\\\test_averagepool_3d_dilations_large_count_include_pad_is_0_ceil_mode_is_False\\\\test_data_set_0'\n",
      "\n",
      "\n",
      "[notice] A new release of pip is available: 24.0 -> 24.1.2\n",
      "[notice] To update, run: C:\\Users\\kolhe\\AppData\\Local\\Microsoft\\WindowsApps\\PythonSoftwareFoundation.Python.3.11_qbz5n2kfra8p0\\python.exe -m pip install --upgrade pip\n"
     ]
    }
   ],
   "source": [
    "!pip install \"semantic-router[fastembed]\""
   ]
  },
  {
   "cell_type": "markdown",
   "metadata": {},
   "source": [
    "## Semantic Chunking Methods\n",
    "\n",
    "##### 1. Statistical Chunking"
   ]
  },
  {
   "cell_type": "code",
   "execution_count": 1,
   "metadata": {},
   "outputs": [
    {
     "name": "stderr",
     "output_type": "stream",
     "text": [
      "C:\\Users\\kolhe\\AppData\\Local\\Packages\\PythonSoftwareFoundation.Python.3.11_qbz5n2kfra8p0\\LocalCache\\local-packages\\Python311\\site-packages\\tqdm\\auto.py:21: TqdmWarning: IProgress not found. Please update jupyter and ipywidgets. See https://ipywidgets.readthedocs.io/en/stable/user_install.html\n",
      "  from .autonotebook import tqdm as notebook_tqdm\n"
     ]
    },
    {
     "ename": "ImportError",
     "evalue": "Please install fastembed to use FastEmbedEncoder. You can install it with: `pip install 'semantic-router[fastembed]'`",
     "output_type": "error",
     "traceback": [
      "\u001b[1;31m---------------------------------------------------------------------------\u001b[0m",
      "\u001b[1;31mModuleNotFoundError\u001b[0m                       Traceback (most recent call last)",
      "File \u001b[1;32m~\\AppData\\Local\\Packages\\PythonSoftwareFoundation.Python.3.11_qbz5n2kfra8p0\\LocalCache\\local-packages\\Python311\\site-packages\\semantic_router\\encoders\\fastembed.py:25\u001b[0m, in \u001b[0;36mFastEmbedEncoder._initialize_client\u001b[1;34m(self)\u001b[0m\n\u001b[0;32m     24\u001b[0m \u001b[38;5;28;01mtry\u001b[39;00m:\n\u001b[1;32m---> 25\u001b[0m     \u001b[38;5;28;01mfrom\u001b[39;00m \u001b[38;5;21;01mfastembed\u001b[39;00m \u001b[38;5;28;01mimport\u001b[39;00m TextEmbedding\n\u001b[0;32m     26\u001b[0m \u001b[38;5;28;01mexcept\u001b[39;00m \u001b[38;5;167;01mImportError\u001b[39;00m:\n",
      "\u001b[1;31mModuleNotFoundError\u001b[0m: No module named 'fastembed'",
      "\nDuring handling of the above exception, another exception occurred:\n",
      "\u001b[1;31mImportError\u001b[0m                               Traceback (most recent call last)",
      "Cell \u001b[1;32mIn[1], line 5\u001b[0m\n\u001b[0;32m      2\u001b[0m \u001b[38;5;28;01mfrom\u001b[39;00m \u001b[38;5;21;01msemantic_chunkers\u001b[39;00m \u001b[38;5;28;01mimport\u001b[39;00m StatisticalChunker\n\u001b[0;32m      3\u001b[0m \u001b[38;5;28;01mfrom\u001b[39;00m \u001b[38;5;21;01msemantic_router\u001b[39;00m\u001b[38;5;21;01m.\u001b[39;00m\u001b[38;5;21;01mencoders\u001b[39;00m \u001b[38;5;28;01mimport\u001b[39;00m FastEmbedEncoder\n\u001b[1;32m----> 5\u001b[0m encoder \u001b[38;5;241m=\u001b[39m \u001b[43mFastEmbedEncoder\u001b[49m\u001b[43m(\u001b[49m\u001b[43mname\u001b[49m\u001b[38;5;241;43m=\u001b[39;49m\u001b[38;5;124;43m\"\u001b[39;49m\u001b[38;5;124;43mBAAI/bge-small-en-v1.5\u001b[39;49m\u001b[38;5;124;43m\"\u001b[39;49m\u001b[43m)\u001b[49m\n",
      "File \u001b[1;32m~\\AppData\\Local\\Packages\\PythonSoftwareFoundation.Python.3.11_qbz5n2kfra8p0\\LocalCache\\local-packages\\Python311\\site-packages\\semantic_router\\encoders\\fastembed.py:21\u001b[0m, in \u001b[0;36mFastEmbedEncoder.__init__\u001b[1;34m(self, score_threshold, **data)\u001b[0m\n\u001b[0;32m     17\u001b[0m \u001b[38;5;28;01mdef\u001b[39;00m \u001b[38;5;21m__init__\u001b[39m(\n\u001b[0;32m     18\u001b[0m     \u001b[38;5;28mself\u001b[39m, score_threshold: \u001b[38;5;28mfloat\u001b[39m \u001b[38;5;241m=\u001b[39m \u001b[38;5;241m0.5\u001b[39m, \u001b[38;5;241m*\u001b[39m\u001b[38;5;241m*\u001b[39mdata\n\u001b[0;32m     19\u001b[0m ):  \u001b[38;5;66;03m# TODO default score_threshold not thoroughly tested, should optimize\u001b[39;00m\n\u001b[0;32m     20\u001b[0m     \u001b[38;5;28msuper\u001b[39m()\u001b[38;5;241m.\u001b[39m\u001b[38;5;21m__init__\u001b[39m(score_threshold\u001b[38;5;241m=\u001b[39mscore_threshold, \u001b[38;5;241m*\u001b[39m\u001b[38;5;241m*\u001b[39mdata)\n\u001b[1;32m---> 21\u001b[0m     \u001b[38;5;28mself\u001b[39m\u001b[38;5;241m.\u001b[39m_client \u001b[38;5;241m=\u001b[39m \u001b[38;5;28;43mself\u001b[39;49m\u001b[38;5;241;43m.\u001b[39;49m\u001b[43m_initialize_client\u001b[49m\u001b[43m(\u001b[49m\u001b[43m)\u001b[49m\n",
      "File \u001b[1;32m~\\AppData\\Local\\Packages\\PythonSoftwareFoundation.Python.3.11_qbz5n2kfra8p0\\LocalCache\\local-packages\\Python311\\site-packages\\semantic_router\\encoders\\fastembed.py:27\u001b[0m, in \u001b[0;36mFastEmbedEncoder._initialize_client\u001b[1;34m(self)\u001b[0m\n\u001b[0;32m     25\u001b[0m     \u001b[38;5;28;01mfrom\u001b[39;00m \u001b[38;5;21;01mfastembed\u001b[39;00m \u001b[38;5;28;01mimport\u001b[39;00m TextEmbedding\n\u001b[0;32m     26\u001b[0m \u001b[38;5;28;01mexcept\u001b[39;00m \u001b[38;5;167;01mImportError\u001b[39;00m:\n\u001b[1;32m---> 27\u001b[0m     \u001b[38;5;28;01mraise\u001b[39;00m \u001b[38;5;167;01mImportError\u001b[39;00m(\n\u001b[0;32m     28\u001b[0m         \u001b[38;5;124m\"\u001b[39m\u001b[38;5;124mPlease install fastembed to use FastEmbedEncoder. \u001b[39m\u001b[38;5;124m\"\u001b[39m\n\u001b[0;32m     29\u001b[0m         \u001b[38;5;124m\"\u001b[39m\u001b[38;5;124mYou can install it with: \u001b[39m\u001b[38;5;124m\"\u001b[39m\n\u001b[0;32m     30\u001b[0m         \u001b[38;5;124m\"\u001b[39m\u001b[38;5;124m`pip install \u001b[39m\u001b[38;5;124m'\u001b[39m\u001b[38;5;124msemantic-router[fastembed]\u001b[39m\u001b[38;5;124m'\u001b[39m\u001b[38;5;124m`\u001b[39m\u001b[38;5;124m\"\u001b[39m\n\u001b[0;32m     31\u001b[0m     )\n\u001b[0;32m     33\u001b[0m embedding_args \u001b[38;5;241m=\u001b[39m {\n\u001b[0;32m     34\u001b[0m     \u001b[38;5;124m\"\u001b[39m\u001b[38;5;124mmodel_name\u001b[39m\u001b[38;5;124m\"\u001b[39m: \u001b[38;5;28mself\u001b[39m\u001b[38;5;241m.\u001b[39mname,\n\u001b[0;32m     35\u001b[0m     \u001b[38;5;124m\"\u001b[39m\u001b[38;5;124mmax_length\u001b[39m\u001b[38;5;124m\"\u001b[39m: \u001b[38;5;28mself\u001b[39m\u001b[38;5;241m.\u001b[39mmax_length,\n\u001b[0;32m     36\u001b[0m     \u001b[38;5;124m\"\u001b[39m\u001b[38;5;124mcache_dir\u001b[39m\u001b[38;5;124m\"\u001b[39m: \u001b[38;5;28mself\u001b[39m\u001b[38;5;241m.\u001b[39mcache_dir,\n\u001b[0;32m     37\u001b[0m     \u001b[38;5;124m\"\u001b[39m\u001b[38;5;124mthreads\u001b[39m\u001b[38;5;124m\"\u001b[39m: \u001b[38;5;28mself\u001b[39m\u001b[38;5;241m.\u001b[39mthreads,\n\u001b[0;32m     38\u001b[0m }\n\u001b[0;32m     40\u001b[0m embedding_args \u001b[38;5;241m=\u001b[39m {k: v \u001b[38;5;28;01mfor\u001b[39;00m k, v \u001b[38;5;129;01min\u001b[39;00m embedding_args\u001b[38;5;241m.\u001b[39mitems() \u001b[38;5;28;01mif\u001b[39;00m v \u001b[38;5;129;01mis\u001b[39;00m \u001b[38;5;129;01mnot\u001b[39;00m \u001b[38;5;28;01mNone\u001b[39;00m}\n",
      "\u001b[1;31mImportError\u001b[0m: Please install fastembed to use FastEmbedEncoder. You can install it with: `pip install 'semantic-router[fastembed]'`"
     ]
    }
   ],
   "source": [
    "# Note: Semantic chunking is mostly text based chunking method -> better perform for textual tasks\n",
    "from semantic_chunkers import StatisticalChunker\n",
    "from semantic_router.encoders import FastEmbedEncoder\n",
    "\n",
    "encoder = FastEmbedEncoder(name=\"BAAI/bge-small-en-v1.5\")\n"
   ]
  },
  {
   "cell_type": "code",
   "execution_count": null,
   "metadata": {},
   "outputs": [],
   "source": [
    "# Statistical Chunker -> Most Robust Chunking method, \n",
    "# WORKING: it uses varying similarity thresholds to identify more dynamic and local similarity splits. \n",
    "# good balance between accuracy and efficiency.\n",
    "# Automatically identifies good threshold value while chunking of our text.\n",
    "hunker = StatisticalChunker(encoder=encoder)\n",
    "chunks = chunker(docs = [docs])"
   ]
  },
  {
   "cell_type": "markdown",
   "metadata": {},
   "source": [
    "##### 2. Consecutive Chunking"
   ]
  },
  {
   "cell_type": "code",
   "execution_count": null,
   "metadata": {},
   "outputs": [],
   "source": [
    "# Consecutive Chunking -> Compare and merge the sentences in a corpus.\n",
    "# Best Suited for multimodal use-cases.\n",
    "from semantic_chunkers import ConsecutiveChunker\n",
    "chunker = ConsecutiveChunker(encoder=encoder, score_threshold=0.3)\n",
    "chunks = chunker(docs = [docs])"
   ]
  },
  {
   "cell_type": "markdown",
   "metadata": {},
   "source": [
    "##### Cumulative Chunking Method"
   ]
  },
  {
   "cell_type": "code",
   "execution_count": null,
   "metadata": {},
   "outputs": [],
   "source": [
    "# Cumulative Chunking\n",
    "# WORKING: Consecutively add sentences for comparision, if drop in the similarity between consecutive sentences then make a split at that point.\n",
    "# Slow and Best suited for Text only usecases.\n",
    "from semantic_chunkers import CumulativeChunker\n",
    "chunker = CumulativeChunker(encoder=encoder, score_threshold=0.3)\n",
    "chunks = chunker(docs = [docs])"
   ]
  },
  {
   "cell_type": "markdown",
   "metadata": {},
   "source": [
    "### Rolling Window Splitter"
   ]
  },
  {
   "cell_type": "code",
   "execution_count": 2,
   "metadata": {},
   "outputs": [
    {
     "name": "stderr",
     "output_type": "stream",
     "text": [
      "C:\\Users\\kolhe\\AppData\\Local\\Packages\\PythonSoftwareFoundation.Python.3.11_qbz5n2kfra8p0\\LocalCache\\local-packages\\Python311\\site-packages\\tqdm\\auto.py:21: TqdmWarning: IProgress not found. Please update jupyter and ipywidgets. See https://ipywidgets.readthedocs.io/en/stable/user_install.html\n",
      "  from .autonotebook import tqdm as notebook_tqdm\n"
     ]
    },
    {
     "ename": "NameError",
     "evalue": "name 'encoder' is not defined",
     "output_type": "error",
     "traceback": [
      "\u001b[1;31m---------------------------------------------------------------------------\u001b[0m",
      "\u001b[1;31mNameError\u001b[0m                                 Traceback (most recent call last)",
      "Cell \u001b[1;32mIn[2], line 4\u001b[0m\n\u001b[0;32m      1\u001b[0m \u001b[38;5;28;01mfrom\u001b[39;00m \u001b[38;5;21;01msemantic_router\u001b[39;00m\u001b[38;5;21;01m.\u001b[39;00m\u001b[38;5;21;01msplitters\u001b[39;00m \u001b[38;5;28;01mimport\u001b[39;00m RollingWindowSplitter\n\u001b[0;32m      3\u001b[0m splitter \u001b[38;5;241m=\u001b[39m RollingWindowSplitter(\n\u001b[1;32m----> 4\u001b[0m     encoder\u001b[38;5;241m=\u001b[39m\u001b[43mencoder\u001b[49m,\n\u001b[0;32m      5\u001b[0m     dynamic_threshold\u001b[38;5;241m=\u001b[39m\u001b[38;5;28;01mTrue\u001b[39;00m,\n\u001b[0;32m      6\u001b[0m     min_split_tokens\u001b[38;5;241m=\u001b[39m\u001b[38;5;241m100\u001b[39m,\n\u001b[0;32m      7\u001b[0m     max_split_tokens\u001b[38;5;241m=\u001b[39m\u001b[38;5;241m500\u001b[39m,\n\u001b[0;32m      8\u001b[0m     window_size\u001b[38;5;241m=\u001b[39m\u001b[38;5;241m2\u001b[39m,\n\u001b[0;32m      9\u001b[0m     plot_splits\u001b[38;5;241m=\u001b[39m\u001b[38;5;28;01mTrue\u001b[39;00m,  \u001b[38;5;66;03m# set this to true to visualize chunking\u001b[39;00m\n\u001b[0;32m     10\u001b[0m     enable_statistics\u001b[38;5;241m=\u001b[39m\u001b[38;5;28;01mTrue\u001b[39;00m  \u001b[38;5;66;03m# to print chunking stats\u001b[39;00m\n\u001b[0;32m     11\u001b[0m )\n",
      "\u001b[1;31mNameError\u001b[0m: name 'encoder' is not defined"
     ]
    }
   ],
   "source": [
    "from semantic_router.splitters import RollingWindowSplitter\n",
    "\n",
    "splitter = RollingWindowSplitter(\n",
    "    encoder=encoder,\n",
    "    dynamic_threshold=True,\n",
    "    min_split_tokens=100,\n",
    "    max_split_tokens=500,\n",
    "    window_size=2,\n",
    "    plot_splits=True,  # set this to true to visualize chunking\n",
    "    enable_statistics=True  # to print chunking stats\n",
    ")"
   ]
  },
  {
   "cell_type": "code",
   "execution_count": null,
   "metadata": {},
   "outputs": [],
   "source": [
    "splits = splitter([docs[0].page_content])"
   ]
  },
  {
   "cell_type": "code",
   "execution_count": null,
   "metadata": {},
   "outputs": [],
   "source": [
    "splits = splitter([docs[0].page_content])"
   ]
  },
  {
   "cell_type": "code",
   "execution_count": null,
   "metadata": {},
   "outputs": [],
   "source": [
    "splitter.print(splits[:3])"
   ]
  },
  {
   "cell_type": "code",
   "execution_count": null,
   "metadata": {},
   "outputs": [],
   "source": [
    "from semantic_router.schema import DocumentSplit\n",
    "\n",
    "\n",
    "def build_metadata(doc: dict, doc_splits: list[DocumentSplit]):\n",
    "    # get document level metadata first\n",
    "    refs = list(doc[\"references\"].values())\n",
    "    # init split level metadata list\n",
    "    metadata = []\n",
    "    for i, split in enumerate(doc_splits):\n",
    "        # get neighboring chunks\n",
    "        prechunk_id = \"\" if i == 0 else f\"{arxiv_id}#{i-1}\"\n",
    "        postchunk_id = \"\" if i+1 == len(doc_splits) else f\"{arxiv_id}#{i+1}\"\n",
    "        # create dict and append to metadata list\n",
    "        metadata.append({\n",
    "            \"id\": f\"{arxiv_id}#{i}\",\n",
    "            \"content\": split.content,\n",
    "            \"prechunk_id\": prechunk_id,\n",
    "            \"postchunk_id\": postchunk_id,\n",
    "            \"references\": refs\n",
    "        })\n",
    "    return metadata"
   ]
  },
  {
   "cell_type": "code",
   "execution_count": null,
   "metadata": {},
   "outputs": [],
   "source": [
    "metadata = build_metadata(\n",
    "    doc=docs[2],\n",
    "    doc_splits=splits[:3]\n",
    ")"
   ]
  },
  {
   "cell_type": "code",
   "execution_count": null,
   "metadata": {},
   "outputs": [],
   "source": [
    "metadata = build_metadata(doc=doc, doc_splits=splits)"
   ]
  },
  {
   "cell_type": "markdown",
   "metadata": {},
   "source": [
    "### Patent Document Retriever Splitter"
   ]
  },
  {
   "cell_type": "code",
   "execution_count": null,
   "metadata": {},
   "outputs": [],
   "source": [
    "# from langchain.schema.document import Document\n",
    "# documents = [\n",
    "#   Document(\n",
    "#     page_content = text,\n",
    "#     metadata = {\n",
    "#       \"source\": \"https://www.bbc.co.uk/news/uk-67302048\",\n",
    "#     }\n",
    "#   )\n",
    "# ]\n",
    "# documents"
   ]
  },
  {
   "cell_type": "code",
   "execution_count": null,
   "metadata": {},
   "outputs": [],
   "source": [
    "from langchain_community.embeddings.fastembed import FastEmbedEmbeddings\n",
    "from langchain.retrievers import ParentDocumentRetriever\n",
    "from langchain_text_splitters import RecursiveCharacterTextSplitter\n",
    "from langchain.storage import InMemoryStore"
   ]
  },
  {
   "cell_type": "code",
   "execution_count": null,
   "metadata": {},
   "outputs": [],
   "source": [
    "import uuid\n",
    "\n",
    "# This text splitter is used to create the parent documents\n",
    "parent_splitter = RecursiveCharacterTextSplitter(chunk_size=1000)\n",
    "\n",
    "# This text splitter is used to create the child documents\n",
    "# It should create documents smaller than the parent\n",
    "child_splitter = RecursiveCharacterTextSplitter(chunk_size=400)\n",
    "\n",
    "# The vectorstore to use to index the child chunks\n",
    "# TODO:Define the VectorStore-> milvus\n",
    "\n",
    "# The storage layer for the parent documents\n",
    "store = InMemoryStore()"
   ]
  },
  {
   "cell_type": "code",
   "execution_count": null,
   "metadata": {},
   "outputs": [],
   "source": [
    "retriever = ParentDocumentRetriever(\n",
    "  vectorstore=vectorstore,\n",
    "  docstore=store,\n",
    "  child_splitter=child_splitter,\n",
    "  parent_splitter=parent_splitter,\n",
    ") "
   ]
  },
  {
   "cell_type": "code",
   "execution_count": null,
   "metadata": {},
   "outputs": [],
   "source": [
    "retriever.add_documents(docs)\n",
    "child_retriever = vectorstore.as_retriever()"
   ]
  },
  {
   "cell_type": "code",
   "execution_count": null,
   "metadata": {},
   "outputs": [],
   "source": []
  }
 ],
 "metadata": {
  "kernelspec": {
   "display_name": "Python 3",
   "language": "python",
   "name": "python3"
  },
  "language_info": {
   "codemirror_mode": {
    "name": "ipython",
    "version": 3
   },
   "file_extension": ".py",
   "mimetype": "text/x-python",
   "name": "python",
   "nbconvert_exporter": "python",
   "pygments_lexer": "ipython3",
   "version": "3.11.9"
  }
 },
 "nbformat": 4,
 "nbformat_minor": 2
}
